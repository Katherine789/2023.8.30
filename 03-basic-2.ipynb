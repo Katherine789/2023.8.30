{
 "cells": [
  {
   "cell_type": "code",
   "execution_count": 8,
   "metadata": {},
   "outputs": [
    {
     "name": "stdout",
     "output_type": "stream",
     "text": [
      "7777+3333=11110\n",
      "7777-3333=4444\n",
      "7777*3333=25920741\n",
      "7777/3333=2.3333333333333335\n",
      "7777//3333=2\n"
     ]
    }
   ],
   "source": [
    "print('7777+3333=' + str(7777+3333))\n",
    "print('7777-3333=' + str(7777-3333))\n",
    "print('7777*3333=' + str(7777*3333))\n",
    "print('7777/3333=' + str(7777/3333))\n",
    "print('7777//3333=' + str(7777//3333))"
   ]
  },
  {
   "cell_type": "code",
   "execution_count": 9,
   "metadata": {},
   "outputs": [
    {
     "name": "stdout",
     "output_type": "stream",
     "text": [
      "不去上课，摆烂！！\n"
     ]
    }
   ],
   "source": [
    "天气='龙卷风'\n",
    "if 天气 =='龙卷风':\n",
    "    print('不去上课，摆烂！！')\n",
    "elif 天气=='晴空万里':\n",
    "    print('上课！')\n",
    "else:\n",
    "    print('爬起来上课')"
   ]
  }
 ],
 "metadata": {
  "kernelspec": {
   "display_name": "Python 3.8.10 64-bit",
   "language": "python",
   "name": "python3"
  },
  "language_info": {
   "codemirror_mode": {
    "name": "ipython",
    "version": 3
   },
   "file_extension": ".py",
   "mimetype": "text/x-python",
   "name": "python",
   "nbconvert_exporter": "python",
   "pygments_lexer": "ipython3",
   "version": "3.8.10"
  },
  "orig_nbformat": 4,
  "vscode": {
   "interpreter": {
    "hash": "570feb405e2e27c949193ac68f46852414290d515b0ba6e5d90d076ed2284471"
   }
  }
 },
 "nbformat": 4,
 "nbformat_minor": 2
}
