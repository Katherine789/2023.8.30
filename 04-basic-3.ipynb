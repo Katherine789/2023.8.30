{
 "cells": [
  {
   "cell_type": "code",
   "execution_count": 16,
   "metadata": {},
   "outputs": [
    {
     "name": "stdout",
     "output_type": "stream",
     "text": [
      "https://github.com/dustyver/liqingzhao\n"
     ]
    }
   ],
   "source": [
    "poets = [  \n",
    "    {  \n",
    "        \"诗人姓名\": \"杜甫\",  \n",
    "        \"性别\": \"男\",  \n",
    "        \"朝代\": \"唐代\",  \n",
    "        \"诗句\": \"国破山河在，城春草木深。\",  \n",
    "        \"GitHub仓库地址\": \"https://github.com/dustyver/dufu\"  \n",
    "    },  \n",
    "    {  \n",
    "        \"诗人姓名\": \"白居易\",  \n",
    "        \"性别\": \"男\",  \n",
    "        \"朝代\": \"唐代\",  \n",
    "        \"诗句\": \"离离原上草，一岁一枯荣。\",  \n",
    "        \"GitHub仓库地址\": \"https://github.com/dustyver/baijuyi\"  \n",
    "    },  \n",
    "    {  \n",
    "        \"诗人姓名\": \"王维\",  \n",
    "        \"性别\": \"男\",  \n",
    "        \"朝代\": \"唐代\",  \n",
    "        \"诗句\": \"空山新雨后，天气晚来秋。\",  \n",
    "        \"GitHub仓库地址\": \"https://github.com/dustyver/wangwei\"  \n",
    "    },  \n",
    "    {  \n",
    "        \"诗人姓名\": \"李白\",  \n",
    "        \"性别\": \"男\",  \n",
    "        \"朝代\": \"唐代\",  \n",
    "        \"诗句\": \"床前明月光，疑是地上霜。\",  \n",
    "        \"GitHub仓库地址\": \"https://github.com/dustyver/libai\"  \n",
    "    },  \n",
    "    {  \n",
    "        \"诗人姓名\": \"苏轼\",  \n",
    "        \"性别\": \"男\",  \n",
    "        \"朝代\": \"宋代\",  \n",
    "        \"诗句\": \"横看成岭侧成峰，远近高低各不同。\",  \n",
    "        \"GitHub仓库地址\": \"https://github.com/dustyver/sushi\"  \n",
    "    },  \n",
    "    {  \n",
    "        \"诗人姓名\": \"李清照\",  \n",
    "        \"性别\": \"女\",  \n",
    "        \"朝代\": \"宋代\",  \n",
    "        \"诗句\": \"寻寻觅觅，冷冷清清，凄凄惨惨戚戚。\",  \n",
    "        \"GitHub仓库地址\": \"https://github.com/dustyver/liqingzhao\"  \n",
    "    },  \n",
    "    {  \n",
    "        \"诗人姓名\": \"辛弃疾\",  \n",
    "        \"性别\": \"男\",  \n",
    "        \"朝代\": \"南宋\",  \n",
    "        \"诗句\": \"青山遮不住，毕竟东流去。\",  \n",
    "        \"GitHub仓库地址\": \"https://github.com/dustyver/xinqiji\"  \n",
    "    },  \n",
    "    {  \n",
    "        \"诗人姓名\": \"陆游\",  \n",
    "        \"性别\": \"男\",  \n",
    "        \"朝代\": \"南宋\",  \n",
    "        \"诗句\": \"死去元知万事空，但悲不见九州同。\",  \n",
    "        \"GitHub仓库地址\": \"https://github.com/dustyver/luyou\"  \n",
    "    },  \n",
    "    {  \n",
    "        \"诗人姓名\": \"曹雪芹\",  \n",
    "        \"性别\": \"男\",  \n",
    "        \"朝代\": \"清代\",  \n",
    "        \"诗句\": \"满纸荒唐言，一把辛酸泪。\",  \n",
    "        \"GitHub仓库地址\": \"https://github.com/dustyver/caoxueqin\"  \n",
    "    },  \n",
    "    {  \n",
    "        \"诗人姓名\": \"龚自珍\",  \n",
    "        \"性别\": \"男\",  \n",
    "        \"朝代\": \"清代\",  \n",
    "        \"诗句\": \"落红不是无情物，化作春泥更护花。\",  \n",
    "        \"GitHub仓库地址\": \"https://github.com/dustyver/gongzizhen\"  \n",
    "    }  \n",
    "]\n",
    "target_name = \"李清照\"  # 指定要筛选的诗人姓名  \n",
    "  \n",
    "for poet in poets:  \n",
    "    if poet[\"诗人姓名\"] == target_name:  \n",
    "        print(poet[\"GitHub仓库地址\"])"
   ]
  },
  {
   "cell_type": "code",
   "execution_count": 17,
   "metadata": {},
   "outputs": [],
   "source": [
    "def get_repo_by_name(name,data):\n",
    "    for i in data:\n",
    "        if i[\"诗人姓名\"]==name:\n",
    "           print (i [\"GitHub仓库地址\"])\n"
   ]
  },
  {
   "cell_type": "code",
   "execution_count": 20,
   "metadata": {},
   "outputs": [
    {
     "name": "stdout",
     "output_type": "stream",
     "text": [
      "https://github.com/dustyver/liqingzhao\n"
     ]
    }
   ],
   "source": [
    "get_repo_by_name('李清照',poets)"
   ]
  },
  {
   "cell_type": "code",
   "execution_count": 21,
   "metadata": {},
   "outputs": [
    {
     "name": "stdout",
     "output_type": "stream",
     "text": [
      "https://github.com/dustyver/liqingzhao\n"
     ]
    }
   ],
   "source": [
    "get_repo_by_name(name='李清照',data=poets)"
   ]
  },
  {
   "cell_type": "code",
   "execution_count": 22,
   "metadata": {},
   "outputs": [
    {
     "name": "stdout",
     "output_type": "stream",
     "text": [
      "https://github.com/dustyver/liqingzhao\n",
      "None\n"
     ]
    }
   ],
   "source": [
    "print (get_repo_by_name('李清照',poets))"
   ]
  }
 ],
 "metadata": {
  "kernelspec": {
   "display_name": "Python 3",
   "language": "python",
   "name": "python3"
  },
  "language_info": {
   "codemirror_mode": {
    "name": "ipython",
    "version": 3
   },
   "file_extension": ".py",
   "mimetype": "text/x-python",
   "name": "python",
   "nbconvert_exporter": "python",
   "pygments_lexer": "ipython3",
   "version": "3.8.10"
  },
  "orig_nbformat": 4
 },
 "nbformat": 4,
 "nbformat_minor": 2
}
