{
 "cells": [
  {
   "cell_type": "code",
   "execution_count": 27,
   "metadata": {},
   "outputs": [],
   "source": [
    "#这是单行注释"
   ]
  },
  {
   "cell_type": "code",
   "execution_count": 28,
   "metadata": {},
   "outputs": [
    {
     "data": {
      "text/plain": [
       "'\\n多行注释\\n多行注释\\n多行注释\\n多行注释\\n多行注释\\n'"
      ]
     },
     "execution_count": 28,
     "metadata": {},
     "output_type": "execute_result"
    }
   ],
   "source": [
    "\"\"\"\n",
    "多行注释\n",
    "多行注释\n",
    "多行注释\n",
    "多行注释\n",
    "多行注释\n",
    "\"\"\"\n"
   ]
  },
  {
   "cell_type": "code",
   "execution_count": 29,
   "metadata": {},
   "outputs": [
    {
     "name": "stdout",
     "output_type": "stream",
     "text": [
      "初始资金:77777 <class 'int'>\n",
      "现有资金:77444 <class 'int'>\n"
     ]
    }
   ],
   "source": [
    "#以下是对变量的练习\n",
    "\n",
    "#数字类型\n",
    "money =  77777\n",
    "print('初始资金:'+ str(money),type(money))\n",
    "money = money - 333 \n",
    "print('现有资金:'+ str(money),type(money))"
   ]
  },
  {
   "cell_type": "code",
   "execution_count": 30,
   "metadata": {},
   "outputs": [
    {
     "name": "stdout",
     "output_type": "stream",
     "text": [
      "小七刮彩票中了1000000000\n"
     ]
    }
   ],
   "source": [
    "#字符串\n",
    "\n",
    "#字符串是一种序列\n",
    "title = '小七刮彩票'\n",
    "skill = '1000000000'\n",
    "print (title + '中了' + skill)"
   ]
  },
  {
   "cell_type": "code",
   "execution_count": 31,
   "metadata": {},
   "outputs": [
    {
     "name": "stdout",
     "output_type": "stream",
     "text": [
      "<class 'bool'>\n",
      "<class 'tuple'>\n",
      "<class 'list'>\n",
      "<class 'set'>\n",
      "<class 'dict'>\n"
     ]
    }
   ],
   "source": [
    "#其他类型\n",
    "t = False\n",
    "print(type(t))\n",
    "a = (1,2,3)\n",
    "print(type(a))\n",
    "b = [1,2,3]\n",
    "print(type(b))\n",
    "c = {1,2,3}\n",
    "print(type(c))\n",
    "d = {'姓名':'小七','性别':'女'}\n",
    "print(type(d))"
   ]
  }
 ],
 "metadata": {
  "kernelspec": {
   "display_name": "Python 3.8.10 64-bit",
   "language": "python",
   "name": "python3"
  },
  "language_info": {
   "codemirror_mode": {
    "name": "ipython",
    "version": 3
   },
   "file_extension": ".py",
   "mimetype": "text/x-python",
   "name": "python",
   "nbconvert_exporter": "python",
   "pygments_lexer": "ipython3",
   "version": "3.8.10"
  },
  "orig_nbformat": 4,
  "vscode": {
   "interpreter": {
    "hash": "570feb405e2e27c949193ac68f46852414290d515b0ba6e5d90d076ed2284471"
   }
  }
 },
 "nbformat": 4,
 "nbformat_minor": 2
}
