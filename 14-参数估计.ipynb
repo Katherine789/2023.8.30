{
 "cells": [
  {
   "cell_type": "code",
   "execution_count": 1,
   "metadata": {},
   "outputs": [],
   "source": [
    "import pandas as pd\n",
    "from scipy import stats\n",
    "# 打开数据文件\n",
    "file_path = R\"data/movie_data_cleaned.csv\"\n",
    "df_movies = pd.read_csv(file_path)"
   ]
  },
  {
   "cell_type": "code",
   "execution_count": 2,
   "metadata": {},
   "outputs": [
    {
     "name": "stdout",
     "output_type": "stream",
     "text": [
      "均值： 7.20\n",
      "均值在置信水平0.95下的置信区间为： (7.171337577138237, 7.2214184794700635)\n"
     ]
    }
   ],
   "source": [
    "# 计算均值和标准误差\n",
    "mean = df_movies['average'].mean()\n",
    "std_error = stats.sem(df_movies['average'])\n",
    "# 设定置信水平\n",
    "confidence_level =0.95\n",
    "# 设定自由度\n",
    "df = len(df_movies['average']) - 1\n",
    "# 计算置信区间\n",
    "confidence_interval = stats.t.interval(confidence_level, df, loc=mean, scale=std_error)\n",
    "# 输出结果\n",
    "print(F\"均值：{mean: .2f}\")\n",
    "print(F\"均值在置信水平{confidence_level}下的置信区间为：\", confidence_interval)"
   ]
  },
  {
   "cell_type": "code",
   "execution_count": 2,
   "metadata": {},
   "outputs": [
    {
     "name": "stdout",
     "output_type": "stream",
     "text": [
      "均值： 7.20\n",
      "均值在置信水平0.95下的置信区间为： (7.171337577138237, 7.2214184794700635)\n"
     ]
    }
   ],
   "source": [
    "#使用sample函数实现随机抽取\n",
    "import pandas as pd  \n",
    "import numpy as np  \n",
    "from scipy import stats  \n",
    "  \n",
    "# 打开数据文件  \n",
    "file_path = R\"data/movie_data_cleaned.csv\"  \n",
    "df_movies = pd.read_csv(file_path)   # 计算均值和标准误差  \n",
    "mean = df_movies['average'].mean()  \n",
    "std_error = stats.sem(df_movies['average'])  \n",
    "# 设定置信水平  \n",
    "confidence_level =0.95  \n",
    "# 设定自由度  \n",
    "df = len(df_movies['average']) - 1  \n",
    "# 计算置信区间  \n",
    "confidence_interval = stats.t.interval(confidence_level, df, loc=mean, scale=std_error)  \n",
    "# 输出结果  \n",
    "print(F\"均值：{mean: .2f}\")  \n",
    "print(F\"均值在置信水平{confidence_level}下的置信区间为：\", confidence_interval)  \n",
    "  \n",
    "# 随机选择100行数据  # 这里我假设你希望抽取100个样本  \n",
    "sample = df_movies.sample(100)"
   ]
  },
  {
   "cell_type": "code",
   "execution_count": 3,
   "metadata": {},
   "outputs": [
    {
     "name": "stdout",
     "output_type": "stream",
     "text": [
      "样本均值：7.24\n",
      "样本均值在置信水平0.95下的置信区间为：(7.015349005370369, 7.472650994629633)\n"
     ]
    }
   ],
   "source": [
    "# 再计算抽取样本的均值和置信区间\n",
    "import pandas as pd  \n",
    "import numpy as np  \n",
    "from scipy import stats  \n",
    "  \n",
    "# 打开数据文件  \n",
    "file_path = R\"data/movie_data_cleaned.csv\"  \n",
    "df_movies = pd.read_csv(file_path)  # 计算均值和标准误差  \n",
    "mean = df_movies['average'].mean()  \n",
    "std_error = stats.sem(df_movies['average'])  \n",
    "  \n",
    "# 设定样本数量  \n",
    "sample_size = 100  \n",
    "  \n",
    "# 随机选择样本  \n",
    "sample = df_movies.sample(sample_size)  \n",
    "  \n",
    "# 计算样本的均值和置信区间  \n",
    "sample_mean = sample['average'].mean()  \n",
    "sample_std_error = np.sqrt(df_movies['average'].var() / sample_size)  \n",
    "sample_confidence_interval = stats.t.interval(0.95, df=len(df_movies['average']) - 1, loc=sample_mean, scale=sample_std_error)  \n",
    "  \n",
    "# 输出结果  \n",
    "print(f\"样本均值：{sample_mean:.2f}\")  \n",
    "print(f\"样本均值在置信水平0.95下的置信区间为：{sample_confidence_interval}\")"
   ]
  },
  {
   "cell_type": "code",
   "execution_count": 10,
   "metadata": {},
   "outputs": [
    {
     "name": "stdout",
     "output_type": "stream",
     "text": [
      "样本均值：7.13\n",
      "样本均值在置信水平0.95下的置信区间为：(6.901183707373256, 7.354816292626743)\n"
     ]
    }
   ],
   "source": [
    "import pandas as pd  \n",
    "import numpy as np  \n",
    "from scipy import stats\n",
    "  \n",
    "# 假设df_movies是一个pandas DataFrame，其中包含一列名为'average'的数据  \n",
    "# df_movies = pd.read_csv('your_data.csv') # 加载数据，这里需要你自行替换为你的数据文件路径  \n",
    "  \n",
    "# 随机选择100行数据  \n",
    "sample = df_movies.sample(100)  \n",
    "  \n",
    "# 计算样本的均值  \n",
    "mean = sample['average'].mean()  \n",
    "  \n",
    "# 计算标准误差  \n",
    "std_error = stats.sem(sample['average'])  \n",
    "  \n",
    "# 设定置信水平  \n",
    "confidence_level = 0.95  \n",
    "  \n",
    "# 设定自由度  \n",
    "df = len(sample['average']) - 1  \n",
    "  \n",
    "# 计算置信区间  \n",
    "confidence_interval = stats.t.interval(confidence_level, df, loc=mean, scale=std_error)  \n",
    "  \n",
    "# 输出结果  \n",
    "print(f\"样本均值：{mean:.2f}\")  \n",
    "print(f\"样本均值在置信水平{confidence_level}下的置信区间为：{confidence_interval}\")"
   ]
  }
 ],
 "metadata": {
  "kernelspec": {
   "display_name": "Python 3",
   "language": "python",
   "name": "python3"
  },
  "language_info": {
   "codemirror_mode": {
    "name": "ipython",
    "version": 3
   },
   "file_extension": ".py",
   "mimetype": "text/x-python",
   "name": "python",
   "nbconvert_exporter": "python",
   "pygments_lexer": "ipython3",
   "version": "3.8.10"
  }
 },
 "nbformat": 4,
 "nbformat_minor": 2
}
